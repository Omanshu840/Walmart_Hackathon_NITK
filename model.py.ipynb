{
 "cells": [
  {
   "cell_type": "code",
   "execution_count": 1,
   "metadata": {},
   "outputs": [],
   "source": [
    "import pandas as pd\n",
    "import numpy as np"
   ]
  },
  {
   "cell_type": "code",
   "execution_count": 2,
   "metadata": {},
   "outputs": [],
   "source": [
    "data_set = pd.read_csv(\"dataset.csv\")"
   ]
  },
  {
   "cell_type": "code",
   "execution_count": 3,
   "metadata": {},
   "outputs": [
    {
     "data": {
      "text/html": [
       "<div>\n",
       "<style scoped>\n",
       "    .dataframe tbody tr th:only-of-type {\n",
       "        vertical-align: middle;\n",
       "    }\n",
       "\n",
       "    .dataframe tbody tr th {\n",
       "        vertical-align: top;\n",
       "    }\n",
       "\n",
       "    .dataframe thead th {\n",
       "        text-align: right;\n",
       "    }\n",
       "</style>\n",
       "<table border=\"1\" class=\"dataframe\">\n",
       "  <thead>\n",
       "    <tr style=\"text-align: right;\">\n",
       "      <th></th>\n",
       "      <th>Item_id</th>\n",
       "      <th>Base_Price</th>\n",
       "      <th>Base_Units</th>\n",
       "      <th>Price1</th>\n",
       "      <th>Units1</th>\n",
       "      <th>Price2</th>\n",
       "      <th>Units2</th>\n",
       "      <th>Price3</th>\n",
       "      <th>Units3</th>\n",
       "      <th>Price4</th>\n",
       "      <th>Units4</th>\n",
       "    </tr>\n",
       "  </thead>\n",
       "  <tbody>\n",
       "    <tr>\n",
       "      <th>0</th>\n",
       "      <td>1</td>\n",
       "      <td>54</td>\n",
       "      <td>79</td>\n",
       "      <td>52</td>\n",
       "      <td>94</td>\n",
       "      <td>49</td>\n",
       "      <td>108</td>\n",
       "      <td>46</td>\n",
       "      <td>122</td>\n",
       "      <td>44</td>\n",
       "      <td>137</td>\n",
       "    </tr>\n",
       "    <tr>\n",
       "      <th>1</th>\n",
       "      <td>2</td>\n",
       "      <td>56</td>\n",
       "      <td>803</td>\n",
       "      <td>54</td>\n",
       "      <td>928</td>\n",
       "      <td>51</td>\n",
       "      <td>1053</td>\n",
       "      <td>48</td>\n",
       "      <td>1177</td>\n",
       "      <td>45</td>\n",
       "      <td>1302</td>\n",
       "    </tr>\n",
       "    <tr>\n",
       "      <th>2</th>\n",
       "      <td>3</td>\n",
       "      <td>48</td>\n",
       "      <td>563</td>\n",
       "      <td>46</td>\n",
       "      <td>653</td>\n",
       "      <td>44</td>\n",
       "      <td>743</td>\n",
       "      <td>41</td>\n",
       "      <td>833</td>\n",
       "      <td>39</td>\n",
       "      <td>923</td>\n",
       "    </tr>\n",
       "    <tr>\n",
       "      <th>3</th>\n",
       "      <td>4</td>\n",
       "      <td>49</td>\n",
       "      <td>65</td>\n",
       "      <td>47</td>\n",
       "      <td>71</td>\n",
       "      <td>45</td>\n",
       "      <td>76</td>\n",
       "      <td>42</td>\n",
       "      <td>82</td>\n",
       "      <td>40</td>\n",
       "      <td>87</td>\n",
       "    </tr>\n",
       "    <tr>\n",
       "      <th>4</th>\n",
       "      <td>5</td>\n",
       "      <td>22</td>\n",
       "      <td>497</td>\n",
       "      <td>21</td>\n",
       "      <td>589</td>\n",
       "      <td>20</td>\n",
       "      <td>680</td>\n",
       "      <td>19</td>\n",
       "      <td>771</td>\n",
       "      <td>18</td>\n",
       "      <td>862</td>\n",
       "    </tr>\n",
       "  </tbody>\n",
       "</table>\n",
       "</div>"
      ],
      "text/plain": [
       "   Item_id  Base_Price  Base_Units  Price1  Units1  Price2  Units2  Price3  \\\n",
       "0        1          54          79      52      94      49     108      46   \n",
       "1        2          56         803      54     928      51    1053      48   \n",
       "2        3          48         563      46     653      44     743      41   \n",
       "3        4          49          65      47      71      45      76      42   \n",
       "4        5          22         497      21     589      20     680      19   \n",
       "\n",
       "   Units3  Price4  Units4  \n",
       "0     122      44     137  \n",
       "1    1177      45    1302  \n",
       "2     833      39     923  \n",
       "3      82      40      87  \n",
       "4     771      18     862  "
      ]
     },
     "execution_count": 3,
     "metadata": {},
     "output_type": "execute_result"
    }
   ],
   "source": [
    "data_set.head()"
   ]
  },
  {
   "cell_type": "code",
   "execution_count": 12,
   "metadata": {},
   "outputs": [],
   "source": [
    "price_map = [\"Base_Price\", \"Price1\", \"Price2\", \"Price3\", \"Price4\"]\n",
    "qty_map = [\"Base_Units\", \"Units1\", \"Units2\", \"Units3\", \"Units4\"]"
   ]
  },
  {
   "cell_type": "code",
   "execution_count": 5,
   "metadata": {},
   "outputs": [],
   "source": [
    "choices = np.random.randint(0, 5, 300)"
   ]
  },
  {
   "cell_type": "code",
   "execution_count": 9,
   "metadata": {},
   "outputs": [
    {
     "data": {
      "text/plain": [
       "54"
      ]
     },
     "execution_count": 9,
     "metadata": {},
     "output_type": "execute_result"
    }
   ],
   "source": [
    "data_set['Base_Price'][0]"
   ]
  },
  {
   "cell_type": "code",
   "execution_count": 18,
   "metadata": {},
   "outputs": [
    {
     "name": "stdout",
     "output_type": "stream",
     "text": [
      "Total Revenue = 6573780\n",
      "Total qty = 183581\n",
      "Revenue_gain = 13.753449575460827\n",
      "Quantity_gain = 27.197078875893798\n",
      "Hit = 781683\n"
     ]
    }
   ],
   "source": [
    "Revenue_gain = 0\n",
    "Quantity_gain = 0\n",
    "Total_revenue = 0\n",
    "Base_revenue = 0\n",
    "Total_qty = 0\n",
    "Base_qty = 0\n",
    "Hit = 0\n",
    "\n",
    "for i in range(0, 300):\n",
    "    Base_revenue += data_set['Base_Price'][i]*data_set['Base_Units'][i]\n",
    "    Base_qty += data_set['Base_Units'][i]\n",
    "    \n",
    "    selected_price = data_set[price_map[choices[i]]][i]\n",
    "    selected_qty = data_set[qty_map[choices[i]]][i]\n",
    "    new_revenue = selected_price*selected_qty\n",
    "    \n",
    "    Total_revenue += new_revenue\n",
    "    Total_qty += selected_qty\n",
    "    \n",
    "    Hit += (data_set['Base_Price'][i] - selected_price)*selected_qty\n",
    "    \n",
    "\n",
    "Revenue_gain = ((Total_revenue-Base_revenue)/(Base_revenue))*100\n",
    "Quantity_gain = ((Total_qty - Base_qty)/(Base_qty))*100\n",
    "    \n",
    "print(\"Total Revenue =\",Total_revenue)\n",
    "print(\"Total qty =\",Total_qty)\n",
    "print(\"Revenue_gain =\",Revenue_gain)\n",
    "print(\"Quantity_gain =\",Quantity_gain)\n",
    "print(\"Hit =\",Hit)"
   ]
  },
  {
   "cell_type": "code",
   "execution_count": null,
   "metadata": {},
   "outputs": [],
   "source": []
  }
 ],
 "metadata": {
  "kernelspec": {
   "display_name": "Python 3",
   "language": "python",
   "name": "python3"
  },
  "language_info": {
   "codemirror_mode": {
    "name": "ipython",
    "version": 3
   },
   "file_extension": ".py",
   "mimetype": "text/x-python",
   "name": "python",
   "nbconvert_exporter": "python",
   "pygments_lexer": "ipython3",
   "version": "3.6.4"
  }
 },
 "nbformat": 4,
 "nbformat_minor": 2
}
